{
  "nbformat": 4,
  "nbformat_minor": 0,
  "metadata": {
    "colab": {
      "name": "FinalHack_Version1.ipynb",
      "provenance": [],
      "mount_file_id": "1JZxpP90o9Q4Wvf2yWLq__ObgCjeyygcI",
      "authorship_tag": "ABX9TyMt9cOsbE0Gz8zc8vbVXYPp",
      "include_colab_link": true
    },
    "kernelspec": {
      "name": "python3",
      "display_name": "Python 3"
    },
    "language_info": {
      "name": "python"
    }
  },
  "cells": [
    {
      "cell_type": "markdown",
      "metadata": {
        "id": "view-in-github",
        "colab_type": "text"
      },
      "source": [
        "<a href=\"https://colab.research.google.com/github/shravanimamidala/hello_world/blob/master/FinalHack_Version1.ipynb\" target=\"_parent\"><img src=\"https://colab.research.google.com/assets/colab-badge.svg\" alt=\"Open In Colab\"/></a>"
      ]
    },
    {
      "cell_type": "markdown",
      "metadata": {
        "id": "yrzVDIkqptpp"
      },
      "source": [
        "# **Objectives**"
      ]
    },
    {
      "cell_type": "markdown",
      "metadata": {
        "id": "Y652Fs-lpw_4"
      },
      "source": [
        "Problem Statement"
      ]
    },
    {
      "cell_type": "markdown",
      "metadata": {
        "id": "GU1hCKvkBWZB"
      },
      "source": [
        "**To get current working directory**"
      ]
    },
    {
      "cell_type": "code",
      "metadata": {
        "id": "UmhLgNfWBWZF",
        "colab": {
          "base_uri": "https://localhost:8080/",
          "height": 36
        },
        "outputId": "51563417-a5c7-4213-ec3c-63ab698a2025"
      },
      "source": [
        "import os\n",
        "os.getcwd()"
      ],
      "execution_count": 1,
      "outputs": [
        {
          "output_type": "execute_result",
          "data": {
            "application/vnd.google.colaboratory.intrinsic+json": {
              "type": "string"
            },
            "text/plain": [
              "'/content'"
            ]
          },
          "metadata": {
            "tags": []
          },
          "execution_count": 1
        }
      ]
    },
    {
      "cell_type": "code",
      "metadata": {
        "id": "eRnuX2hCD_Jj"
      },
      "source": [
        "#Module for importing files\n",
        "import pandas as pd\n",
        "\n",
        "#Module to ignore the warnings\n",
        "import warnings\n",
        "warnings.filterwarnings('ignore')"
      ],
      "execution_count": 2,
      "outputs": []
    },
    {
      "cell_type": "markdown",
      "metadata": {
        "id": "RyURzzx2ZO9Y"
      },
      "source": [
        "Here we have list of Null values as [\" \",\"na\",\"NA\"] because Null values can be empty or may be represented with NA"
      ]
    },
    {
      "cell_type": "code",
      "metadata": {
        "id": "MsQDkB3XEY6-"
      },
      "source": [
        "broadband_data=pd.read_csv(\"/content/drive/MyDrive/FinalHack/broadband_data.csv\",na_values=[\" \",\"na\",\"NA\"])\n",
        "outage_data=pd.read_csv(\"/content/drive/MyDrive/FinalHack/outage_data.csv\",na_values=[\" \",\"na\",\"NA\"])\n",
        "report_data=pd.read_csv(\"/content/drive/MyDrive/FinalHack/report_data.csv\",na_values=[\" \",\"na\",\"NA\"])\n",
        "server_data=pd.read_csv(\"/content/drive/MyDrive/FinalHack/server_data.csv\",na_values=[\" \",\"na\",\"NA\"])\n",
        "train_data=pd.read_csv(\"/content/drive/MyDrive/FinalHack/train_data.csv\",na_values=[\" \",\"na\",\"NA\"])\n",
        "test_data=pd.read_csv(\"/content/drive/MyDrive/FinalHack/test_data.csv\",na_values=[\" \",\"na\",\"NA\"])"
      ],
      "execution_count": 3,
      "outputs": []
    },
    {
      "cell_type": "markdown",
      "metadata": {
        "id": "WNDKpUKXZdHW"
      },
      "source": [
        "#####Copying the train and test data for future use"
      ]
    },
    {
      "cell_type": "code",
      "metadata": {
        "id": "3O8fGDUSE-fR"
      },
      "source": [
        "test_data_copy=test_data.copy()\n",
        "train_data_copy=train_data.copy()"
      ],
      "execution_count": null,
      "outputs": []
    },
    {
      "cell_type": "code",
      "metadata": {
        "id": "WPMk77zvrmlw"
      },
      "source": [
        ""
      ],
      "execution_count": null,
      "outputs": []
    },
    {
      "cell_type": "markdown",
      "metadata": {
        "id": "6ipIF-61s5Xb"
      },
      "source": [
        ""
      ]
    },
    {
      "cell_type": "markdown",
      "metadata": {
        "id": "i_U5w-WsFEUe"
      },
      "source": [
        "# **Understanding the Data**"
      ]
    },
    {
      "cell_type": "markdown",
      "metadata": {
        "id": "vzZxN4lgjkAo"
      },
      "source": [
        "**Writing a custom function with all the Data Analysis to understand the data**"
      ]
    },
    {
      "cell_type": "code",
      "metadata": {
        "id": "hg45u1B_hCT_"
      },
      "source": [
        "def Data_Analysis(data_file):\n",
        "  print(\"CHECKING THE DIMENSIONS \")\n",
        "  print(\"=========================================================== \")\n",
        "  print(data_file.shape)\n",
        "  print(\"CHECKING THE COLUMNS OF DATASET \")\n",
        "  print(\"=========================================================== \")\n",
        "  print(data_file.columns)\n",
        "  print(\"                                           \")\n",
        "  print(\"GETTING SUMMARY OF DATASET WHICH ARE NUMERICAL \")\n",
        "  print(\"=========================================================== \")\n",
        "  print(data_file.describe())\n",
        "  print(\"                                           \")\n",
        "  print(\"GETTING SUMMARY OF DATASET WHICH ARE CATEGORICAL \")\n",
        "  print(\"=========================================================== \")\n",
        "  print(data_file.describe(include='object'))\n",
        "  print(\"GETTING DATA TYPES OF DATA SET \")\n",
        "  print(\"=========================================================== \")\n",
        "  print(data_file.dtypes)\n",
        "  print(\"GETTING UNIQUE ELEMENTS OF DATASET COLUMN WISE \")\n",
        "  print(\"=========================================================== \")\n",
        "  print(data_file.nunique())\n",
        "  print(\"GETTING NULL VALUES OF DATASET COLUMN WISE \")\n",
        "  print(\"=========================================================== \")\n",
        "  print(data_file.isnull().sum())"
      ],
      "execution_count": 4,
      "outputs": []
    },
    {
      "cell_type": "code",
      "metadata": {
        "id": "-Rfb9OlzsTyI",
        "colab": {
          "base_uri": "https://localhost:8080/"
        },
        "outputId": "8f4efa0d-0613-4a5c-c50b-1e16e29e47b7"
      },
      "source": [
        "print('About broadband_data:\\n')\n",
        "Data_Analysis(broadband_data)\n",
        "print(\"+++++++++++++++++++++++++++++++++++++++++++++++++++++++++++++++++++++++++\")\n",
        "print('About outage_data:\\n')\n",
        "Data_Analysis(outage_data)\n",
        "print(\"+++++++++++++++++++++++++++++++++++++++++++++++++++++++++++++++++++++++++\")\n",
        "print('About report_data:\\n')\n",
        "Data_Analysis(report_data)\n",
        "print(\"+++++++++++++++++++++++++++++++++++++++++++++++++++++++++++++++++++++++++\")\n",
        "print('About server_data:\\n')\n",
        "Data_Analysis(server_data)\n",
        "print(\"+++++++++++++++++++++++++++++++++++++++++++++++++++++++++++++++++++++++++\")\n",
        "print('About train_data:\\n')\n",
        "Data_Analysis(train_data)\n",
        "print(\"+++++++++++++++++++++++++++++++++++++++++++++++++++++++++++++++++++++++++\")\n",
        "print('About test_data:\\n')\n",
        "Data_Analysis(test_data)"
      ],
      "execution_count": 5,
      "outputs": [
        {
          "output_type": "stream",
          "text": [
            "About broadband_data:\n",
            "\n",
            "CHECKING THE DIMENSIONS \n",
            "=========================================================== \n",
            "(21076, 2)\n",
            "CHECKING THE COLUMNS OF DATASET \n",
            "=========================================================== \n",
            "Index(['id', 'broadband_type'], dtype='object')\n",
            "                                           \n",
            "GETTING SUMMARY OF DATASET WHICH ARE NUMERICAL \n",
            "=========================================================== \n",
            "                 id\n",
            "count  21076.000000\n",
            "mean    9255.869330\n",
            "std     5366.730222\n",
            "min        1.000000\n",
            "25%     4599.750000\n",
            "50%     9256.500000\n",
            "75%    13907.250000\n",
            "max    18552.000000\n",
            "                                           \n",
            "GETTING SUMMARY OF DATASET WHICH ARE CATEGORICAL \n",
            "=========================================================== \n",
            "          broadband_type\n",
            "count              21076\n",
            "unique                10\n",
            "top     broadband_type_8\n",
            "freq               10268\n",
            "GETTING DATA TYPES OF DATA SET \n",
            "=========================================================== \n",
            "id                 int64\n",
            "broadband_type    object\n",
            "dtype: object\n",
            "GETTING UNIQUE ELEMENTS OF DATASET COLUMN WISE \n",
            "=========================================================== \n",
            "id                18552\n",
            "broadband_type       10\n",
            "dtype: int64\n",
            "GETTING NULL VALUES OF DATASET COLUMN WISE \n",
            "=========================================================== \n",
            "id                0\n",
            "broadband_type    0\n",
            "dtype: int64\n",
            "+++++++++++++++++++++++++++++++++++++++++++++++++++++++++++++++++++++++++\n",
            "About outage_data:\n",
            "\n",
            "CHECKING THE DIMENSIONS \n",
            "=========================================================== \n",
            "(18552, 2)\n",
            "CHECKING THE COLUMNS OF DATASET \n",
            "=========================================================== \n",
            "Index(['id', 'outage_type'], dtype='object')\n",
            "                                           \n",
            "GETTING SUMMARY OF DATASET WHICH ARE NUMERICAL \n",
            "=========================================================== \n",
            "                 id\n",
            "count  18552.000000\n",
            "mean    9276.500000\n",
            "std     5355.645433\n",
            "min        1.000000\n",
            "25%     4638.750000\n",
            "50%     9276.500000\n",
            "75%    13914.250000\n",
            "max    18552.000000\n",
            "                                           \n",
            "GETTING SUMMARY OF DATASET WHICH ARE CATEGORICAL \n",
            "=========================================================== \n",
            "          outage_type\n",
            "count           18552\n",
            "unique              5\n",
            "top     outage_type_2\n",
            "freq             8737\n",
            "GETTING DATA TYPES OF DATA SET \n",
            "=========================================================== \n",
            "id              int64\n",
            "outage_type    object\n",
            "dtype: object\n",
            "GETTING UNIQUE ELEMENTS OF DATASET COLUMN WISE \n",
            "=========================================================== \n",
            "id             18552\n",
            "outage_type        5\n",
            "dtype: int64\n",
            "GETTING NULL VALUES OF DATASET COLUMN WISE \n",
            "=========================================================== \n",
            "id             0\n",
            "outage_type    0\n",
            "dtype: int64\n",
            "+++++++++++++++++++++++++++++++++++++++++++++++++++++++++++++++++++++++++\n",
            "About report_data:\n",
            "\n",
            "CHECKING THE DIMENSIONS \n",
            "=========================================================== \n",
            "(58671, 3)\n",
            "CHECKING THE COLUMNS OF DATASET \n",
            "=========================================================== \n",
            "Index(['id', 'log_report_type', 'volume'], dtype='object')\n",
            "                                           \n",
            "GETTING SUMMARY OF DATASET WHICH ARE NUMERICAL \n",
            "=========================================================== \n",
            "                 id        volume\n",
            "count  58671.000000  58671.000000\n",
            "mean    9271.368905      9.685296\n",
            "std     5355.142878     27.314433\n",
            "min        1.000000      1.000000\n",
            "25%     4658.500000      1.000000\n",
            "50%     9275.000000      2.000000\n",
            "75%    13903.000000      7.000000\n",
            "max    18552.000000   1310.000000\n",
            "                                           \n",
            "GETTING SUMMARY OF DATASET WHICH ARE CATEGORICAL \n",
            "=========================================================== \n",
            "            log_report_type\n",
            "count                 58671\n",
            "unique                  386\n",
            "top     log_report_type_312\n",
            "freq                   5267\n",
            "GETTING DATA TYPES OF DATA SET \n",
            "=========================================================== \n",
            "id                  int64\n",
            "log_report_type    object\n",
            "volume              int64\n",
            "dtype: object\n",
            "GETTING UNIQUE ELEMENTS OF DATASET COLUMN WISE \n",
            "=========================================================== \n",
            "id                 18552\n",
            "log_report_type      386\n",
            "volume               341\n",
            "dtype: int64\n",
            "GETTING NULL VALUES OF DATASET COLUMN WISE \n",
            "=========================================================== \n",
            "id                 0\n",
            "log_report_type    0\n",
            "volume             0\n",
            "dtype: int64\n",
            "+++++++++++++++++++++++++++++++++++++++++++++++++++++++++++++++++++++++++\n",
            "About server_data:\n",
            "\n",
            "CHECKING THE DIMENSIONS \n",
            "=========================================================== \n",
            "(31170, 2)\n",
            "CHECKING THE COLUMNS OF DATASET \n",
            "=========================================================== \n",
            "Index(['id', 'transit_server_type'], dtype='object')\n",
            "                                           \n",
            "GETTING SUMMARY OF DATASET WHICH ARE NUMERICAL \n",
            "=========================================================== \n",
            "                 id\n",
            "count  31170.000000\n",
            "mean    9267.735258\n",
            "std     5363.817181\n",
            "min        1.000000\n",
            "25%     4625.250000\n",
            "50%     9287.500000\n",
            "75%    13915.000000\n",
            "max    18552.000000\n",
            "                                           \n",
            "GETTING SUMMARY OF DATASET WHICH ARE CATEGORICAL \n",
            "=========================================================== \n",
            "           transit_server_type\n",
            "count                    31170\n",
            "unique                      53\n",
            "top     transit_server_type_11\n",
            "freq                      7888\n",
            "GETTING DATA TYPES OF DATA SET \n",
            "=========================================================== \n",
            "id                      int64\n",
            "transit_server_type    object\n",
            "dtype: object\n",
            "GETTING UNIQUE ELEMENTS OF DATASET COLUMN WISE \n",
            "=========================================================== \n",
            "id                     18552\n",
            "transit_server_type       53\n",
            "dtype: int64\n",
            "GETTING NULL VALUES OF DATASET COLUMN WISE \n",
            "=========================================================== \n",
            "id                     0\n",
            "transit_server_type    0\n",
            "dtype: int64\n",
            "+++++++++++++++++++++++++++++++++++++++++++++++++++++++++++++++++++++++++\n",
            "About train_data:\n",
            "\n",
            "CHECKING THE DIMENSIONS \n",
            "=========================================================== \n",
            "(5904, 3)\n",
            "CHECKING THE COLUMNS OF DATASET \n",
            "=========================================================== \n",
            "Index(['id', 'area_code', 'outage_duration'], dtype='object')\n",
            "                                           \n",
            "GETTING SUMMARY OF DATASET WHICH ARE NUMERICAL \n",
            "=========================================================== \n",
            "                 id  outage_duration\n",
            "count   5904.000000      5904.000000\n",
            "mean    9323.841972         0.450203\n",
            "std     5338.654942         0.666642\n",
            "min        1.000000         0.000000\n",
            "25%     4763.500000         0.000000\n",
            "50%     9330.500000         0.000000\n",
            "75%    13932.750000         1.000000\n",
            "max    18550.000000         2.000000\n",
            "                                           \n",
            "GETTING SUMMARY OF DATASET WHICH ARE CATEGORICAL \n",
            "=========================================================== \n",
            "       area_code\n",
            "count       5904\n",
            "unique       876\n",
            "top     area_821\n",
            "freq          67\n",
            "GETTING DATA TYPES OF DATA SET \n",
            "=========================================================== \n",
            "id                  int64\n",
            "area_code          object\n",
            "outage_duration     int64\n",
            "dtype: object\n",
            "GETTING UNIQUE ELEMENTS OF DATASET COLUMN WISE \n",
            "=========================================================== \n",
            "id                 5904\n",
            "area_code           876\n",
            "outage_duration       3\n",
            "dtype: int64\n",
            "GETTING NULL VALUES OF DATASET COLUMN WISE \n",
            "=========================================================== \n",
            "id                 0\n",
            "area_code          0\n",
            "outage_duration    0\n",
            "dtype: int64\n",
            "+++++++++++++++++++++++++++++++++++++++++++++++++++++++++++++++++++++++++\n",
            "About test_data:\n",
            "\n",
            "CHECKING THE DIMENSIONS \n",
            "=========================================================== \n",
            "(1477, 2)\n",
            "CHECKING THE COLUMNS OF DATASET \n",
            "=========================================================== \n",
            "Index(['id', 'area_code'], dtype='object')\n",
            "                                           \n",
            "GETTING SUMMARY OF DATASET WHICH ARE NUMERICAL \n",
            "=========================================================== \n",
            "                 id\n",
            "count   1477.000000\n",
            "mean    9028.037915\n",
            "std     5386.914923\n",
            "min        8.000000\n",
            "25%     4236.000000\n",
            "50%     8810.000000\n",
            "75%    13742.000000\n",
            "max    18539.000000\n",
            "                                           \n",
            "GETTING SUMMARY OF DATASET WHICH ARE CATEGORICAL \n",
            "=========================================================== \n",
            "       area_code\n",
            "count       1477\n",
            "unique       531\n",
            "top     area_734\n",
            "freq          18\n",
            "GETTING DATA TYPES OF DATA SET \n",
            "=========================================================== \n",
            "id            int64\n",
            "area_code    object\n",
            "dtype: object\n",
            "GETTING UNIQUE ELEMENTS OF DATASET COLUMN WISE \n",
            "=========================================================== \n",
            "id           1477\n",
            "area_code     531\n",
            "dtype: int64\n",
            "GETTING NULL VALUES OF DATASET COLUMN WISE \n",
            "=========================================================== \n",
            "id           0\n",
            "area_code    0\n",
            "dtype: int64\n"
          ],
          "name": "stdout"
        }
      ]
    },
    {
      "cell_type": "markdown",
      "metadata": {
        "id": "9rOkA7CjJbFn"
      },
      "source": [
        "Checking Dimensions and Columns of each data set"
      ]
    },
    {
      "cell_type": "code",
      "metadata": {
        "id": "4MhKbsWnrmod"
      },
      "source": [
        "print('Dimensions of train_attrition:\\n',Train_data_attrition.shape,'\\n')\n",
        "print('Dimensions of test_attrition:\\n',Test_data_attrition.shape,'\\n')\n",
        "print('Dimensions of train_work:\\n',Train_data_work.shape,'\\n')\n",
        "print('mDimensions of  test_work:\\n',Test_data_work.shape,'\\n')\n",
        "print('Dimensions of Employee:\\n',Employee_data.shape,'\\n')"
      ],
      "execution_count": null,
      "outputs": []
    },
    {
      "cell_type": "code",
      "metadata": {
        "id": "-3_f1_83rmrS"
      },
      "source": [
        ""
      ],
      "execution_count": null,
      "outputs": []
    },
    {
      "cell_type": "code",
      "metadata": {
        "id": "b2oHH4Curmtp"
      },
      "source": [
        ""
      ],
      "execution_count": null,
      "outputs": []
    },
    {
      "cell_type": "code",
      "metadata": {
        "id": "xjrDAIk-rmwT"
      },
      "source": [
        ""
      ],
      "execution_count": null,
      "outputs": []
    }
  ]
}